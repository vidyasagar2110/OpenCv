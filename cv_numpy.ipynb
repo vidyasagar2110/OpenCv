{
 "cells": [
  {
   "cell_type": "code",
   "execution_count": null,
   "id": "7f812755",
   "metadata": {},
   "outputs": [],
   "source": [
    "import numpy as np\n",
    "a = [[[1, 2, 3]]]\n",
    "a1 = np.array(a)\n",
    "print(a1.shape)"
   ]
  },
  {
   "cell_type": "code",
   "execution_count": 9,
   "id": "85e22e98",
   "metadata": {},
   "outputs": [
    {
     "name": "stdout",
     "output_type": "stream",
     "text": [
      "(2, 2, 1)\n"
     ]
    }
   ],
   "source": [
    "import numpy as np\n",
    "c = [[[1],[2]],[[3],[4]]]\n",
    "a2 = np.array(c)\n",
    "print(a2.shape)"
   ]
  }
 ],
 "metadata": {
  "kernelspec": {
   "display_name": "Python 3",
   "language": "python",
   "name": "python3"
  },
  "language_info": {
   "codemirror_mode": {
    "name": "ipython",
    "version": 3
   },
   "file_extension": ".py",
   "mimetype": "text/x-python",
   "name": "python",
   "nbconvert_exporter": "python",
   "pygments_lexer": "ipython3",
   "version": "3.12.10"
  }
 },
 "nbformat": 4,
 "nbformat_minor": 5
}
